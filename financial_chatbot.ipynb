{
 "cells": [
  {
   "cell_type": "code",
   "execution_count": 1,
   "id": "392d46fb-eec1-4b50-bb17-396e2154b169",
   "metadata": {},
   "outputs": [
    {
     "data": {
      "text/html": [
       "<div>\n",
       "<style scoped>\n",
       "    .dataframe tbody tr th:only-of-type {\n",
       "        vertical-align: middle;\n",
       "    }\n",
       "\n",
       "    .dataframe tbody tr th {\n",
       "        vertical-align: top;\n",
       "    }\n",
       "\n",
       "    .dataframe thead th {\n",
       "        text-align: right;\n",
       "    }\n",
       "</style>\n",
       "<table border=\"1\" class=\"dataframe\">\n",
       "  <thead>\n",
       "    <tr style=\"text-align: right;\">\n",
       "      <th></th>\n",
       "      <th>Company</th>\n",
       "      <th>Fiscal Year</th>\n",
       "      <th>Total Revenue (USD B)</th>\n",
       "      <th>Net Income (USD B)</th>\n",
       "      <th>Total Assets (USD B)</th>\n",
       "      <th>Total Liabilities (USD B)</th>\n",
       "      <th>Cash Flow from Operating Activities (USD B)</th>\n",
       "    </tr>\n",
       "  </thead>\n",
       "  <tbody>\n",
       "    <tr>\n",
       "      <th>0</th>\n",
       "      <td>Microsoft</td>\n",
       "      <td>2023</td>\n",
       "      <td>211.92</td>\n",
       "      <td>72.36</td>\n",
       "      <td>411.98</td>\n",
       "      <td>205.75</td>\n",
       "      <td>87.58</td>\n",
       "    </tr>\n",
       "    <tr>\n",
       "      <th>1</th>\n",
       "      <td>Microsoft</td>\n",
       "      <td>2022</td>\n",
       "      <td>198.27</td>\n",
       "      <td>72.74</td>\n",
       "      <td>364.84</td>\n",
       "      <td>198.30</td>\n",
       "      <td>89.04</td>\n",
       "    </tr>\n",
       "    <tr>\n",
       "      <th>2</th>\n",
       "      <td>Microsoft</td>\n",
       "      <td>2021</td>\n",
       "      <td>168.09</td>\n",
       "      <td>61.27</td>\n",
       "      <td>333.78</td>\n",
       "      <td>191.79</td>\n",
       "      <td>76.74</td>\n",
       "    </tr>\n",
       "    <tr>\n",
       "      <th>3</th>\n",
       "      <td>Apple</td>\n",
       "      <td>2023</td>\n",
       "      <td>383.29</td>\n",
       "      <td>97.00</td>\n",
       "      <td>352.58</td>\n",
       "      <td>290.44</td>\n",
       "      <td>110.54</td>\n",
       "    </tr>\n",
       "    <tr>\n",
       "      <th>4</th>\n",
       "      <td>Apple</td>\n",
       "      <td>2022</td>\n",
       "      <td>394.33</td>\n",
       "      <td>99.80</td>\n",
       "      <td>352.76</td>\n",
       "      <td>302.08</td>\n",
       "      <td>122.15</td>\n",
       "    </tr>\n",
       "  </tbody>\n",
       "</table>\n",
       "</div>"
      ],
      "text/plain": [
       "     Company  Fiscal Year  Total Revenue (USD B)  Net Income (USD B)  \\\n",
       "0  Microsoft         2023                 211.92               72.36   \n",
       "1  Microsoft         2022                 198.27               72.74   \n",
       "2  Microsoft         2021                 168.09               61.27   \n",
       "3      Apple         2023                 383.29               97.00   \n",
       "4      Apple         2022                 394.33               99.80   \n",
       "\n",
       "   Total Assets (USD B)  Total Liabilities (USD B)  \\\n",
       "0                411.98                     205.75   \n",
       "1                364.84                     198.30   \n",
       "2                333.78                     191.79   \n",
       "3                352.58                     290.44   \n",
       "4                352.76                     302.08   \n",
       "\n",
       "   Cash Flow from Operating Activities (USD B)  \n",
       "0                                        87.58  \n",
       "1                                        89.04  \n",
       "2                                        76.74  \n",
       "3                                       110.54  \n",
       "4                                       122.15  "
      ]
     },
     "execution_count": 1,
     "metadata": {},
     "output_type": "execute_result"
    }
   ],
   "source": [
    "import pandas as pd\n",
    "\n",
    "# Load the CSV you uploaded\n",
    "df = pd.read_csv(\"financial_data.csv\")\n",
    "df.head()\n"
   ]
  },
  {
   "cell_type": "code",
   "execution_count": 2,
   "id": "6578cf7b-d57b-423f-a492-99fbee444c66",
   "metadata": {},
   "outputs": [
    {
     "data": {
      "text/plain": [
       "{'apple': {'latest_year': 2023,\n",
       "  'revenue': np.float64(383.29),\n",
       "  'net_income': np.float64(97.0),\n",
       "  'cash_flow': np.float64(110.54),\n",
       "  'prev_net_income': np.float64(99.8)},\n",
       " 'microsoft': {'latest_year': 2023,\n",
       "  'revenue': np.float64(211.92),\n",
       "  'net_income': np.float64(72.36),\n",
       "  'cash_flow': np.float64(87.58),\n",
       "  'prev_net_income': np.float64(72.74)},\n",
       " 'tesla': {'latest_year': 2023,\n",
       "  'revenue': np.float64(96.77),\n",
       "  'net_income': np.float64(15.0),\n",
       "  'cash_flow': np.float64(13.34),\n",
       "  'prev_net_income': np.float64(12.56)}}"
      ]
     },
     "execution_count": 2,
     "metadata": {},
     "output_type": "execute_result"
    }
   ],
   "source": [
    "def build_canned_answers(df):\n",
    "    answers = {}\n",
    "    for company, group in df.groupby(\"Company\"):\n",
    "        group = group.sort_values(\"Fiscal Year\", ascending=True)\n",
    "        latest = group.iloc[-1]\n",
    "        prev = group.iloc[-2] if len(group) > 1 else None\n",
    "\n",
    "        answers[company.lower()] = {\n",
    "            \"latest_year\": int(latest[\"Fiscal Year\"]),\n",
    "            \"revenue\": latest[\"Total Revenue (USD B)\"],\n",
    "            \"net_income\": latest[\"Net Income (USD B)\"],\n",
    "            \"cash_flow\": latest[\"Cash Flow from Operating Activities (USD B)\"],\n",
    "            \"prev_net_income\": prev[\"Net Income (USD B)\"] if prev is not None else None\n",
    "        }\n",
    "    return answers\n",
    "\n",
    "canned = build_canned_answers(df)\n",
    "canned\n"
   ]
  },
  {
   "cell_type": "code",
   "execution_count": 3,
   "id": "77921357-f55d-4892-b333-94c2c266b0cf",
   "metadata": {},
   "outputs": [
    {
     "name": "stdout",
     "output_type": "stream",
     "text": [
      "Defaulting to user installation because normal site-packages is not writeable\n",
      "Requirement already satisfied: fuzzywuzzy in c:\\users\\pmls\\appdata\\roaming\\python\\python313\\site-packages (0.18.0)\n",
      "Requirement already satisfied: python-Levenshtein in c:\\users\\pmls\\appdata\\roaming\\python\\python313\\site-packages (0.27.1)\n",
      "Requirement already satisfied: Levenshtein==0.27.1 in c:\\users\\pmls\\appdata\\roaming\\python\\python313\\site-packages (from python-Levenshtein) (0.27.1)\n",
      "Requirement already satisfied: rapidfuzz<4.0.0,>=3.9.0 in c:\\users\\pmls\\appdata\\roaming\\python\\python313\\site-packages (from Levenshtein==0.27.1->python-Levenshtein) (3.13.0)\n"
     ]
    },
    {
     "name": "stderr",
     "output_type": "stream",
     "text": [
      "\n",
      "[notice] A new release of pip is available: 25.1.1 -> 25.2\n",
      "[notice] To update, run: python.exe -m pip install --upgrade pip\n"
     ]
    }
   ],
   "source": [
    "!pip install fuzzywuzzy python-Levenshtein\n"
   ]
  },
  {
   "cell_type": "code",
   "execution_count": 4,
   "id": "e369cfd3-7be5-4422-9864-adde49c6142b",
   "metadata": {},
   "outputs": [
    {
     "data": {
      "text/plain": [
       "'Apple total revenue (2023): 383.29 USD B.'"
      ]
     },
     "execution_count": 4,
     "metadata": {},
     "output_type": "execute_result"
    }
   ],
   "source": [
    "from fuzzywuzzy import process\n",
    "\n",
    "supported_questions = [\n",
    "    \"what is the total revenue for {company}?\",\n",
    "    \"how has net income changed over the last year for {company}?\",\n",
    "    \"which company had the highest recent revenue growth?\",\n",
    "    \"what is the cash flow from operating activities for {company}?\"\n",
    "]\n",
    "\n",
    "def answer_query(query):\n",
    "    q = query.strip().lower()\n",
    "    companies = list(canned.keys())\n",
    "\n",
    "    # Detect company name\n",
    "    match_company = None\n",
    "    for comp in companies:\n",
    "        if comp in q:\n",
    "            match_company = comp\n",
    "            break\n",
    "    if not match_company:\n",
    "        result = process.extractOne(q, companies)\n",
    "        if result and result[1] >= 70:\n",
    "            match_company = result[0]\n",
    "\n",
    "    if \"total revenue\" in q:\n",
    "        if not match_company:\n",
    "            return \"Please specify a company.\"\n",
    "        info = canned[match_company]\n",
    "        return f\"{match_company.title()} total revenue ({info['latest_year']}): {info['revenue']} USD B.\"\n",
    "    \n",
    "    if \"net income\" in q and \"last\" in q:\n",
    "        if not match_company:\n",
    "            return \"Please specify a company.\"\n",
    "        info = canned[match_company]\n",
    "        prev = info['prev_net_income']\n",
    "        if prev is not None:\n",
    "            diff = info['net_income'] - prev\n",
    "            pct = (diff / prev) * 100\n",
    "            sign = \"+\" if diff >= 0 else \"\"\n",
    "            return f\"{match_company.title()} net income: {prev} -> {info['net_income']}. Change: {sign}{diff:.2f} USD B ({pct:.2f}%).\"\n",
    "        else:\n",
    "            return f\"{match_company.title()} net income (latest): {info['net_income']} USD B.\"\n",
    "    \n",
    "    if \"highest\" in q and \"revenue growth\" in q:\n",
    "        growth = {}\n",
    "        for comp in companies:\n",
    "            g = df[df[\"Company\"].str.lower() == comp].sort_values(\"Fiscal Year\")\n",
    "            if len(g) > 1:\n",
    "                latest = g.iloc[-1][\"Total Revenue (USD B)\"]\n",
    "                prev = g.iloc[-2][\"Total Revenue (USD B)\"]\n",
    "                growth[comp] = (latest - prev) / prev * 100\n",
    "        top_company = max(growth, key=growth.get)\n",
    "        return f\"{top_company.title()} had the highest recent revenue growth ({growth[top_company]:.2f}%).\"\n",
    "    \n",
    "    if \"cash flow\" in q:\n",
    "        if not match_company:\n",
    "            return \"Please specify a company.\"\n",
    "        info = canned[match_company]\n",
    "        return f\"{match_company.title()} cash flow from operations ({info['latest_year']}): {info['cash_flow']} USD B.\"\n",
    "    \n",
    "    return \"Sorry, I can only answer predefined queries.\"\n",
    "\n",
    "# Example test\n",
    "answer_query(\"What is the total revenue for Apple?\")\n"
   ]
  },
  {
   "cell_type": "code",
   "execution_count": 5,
   "id": "56e92a61-5e03-449b-8a49-3363f8c8cc6c",
   "metadata": {},
   "outputs": [
    {
     "name": "stdin",
     "output_type": "stream",
     "text": [
      "You:  hi\n"
     ]
    },
    {
     "name": "stdout",
     "output_type": "stream",
     "text": [
      "Bot: Sorry, I can only answer predefined queries.\n"
     ]
    },
    {
     "name": "stdin",
     "output_type": "stream",
     "text": [
      "You:  next\n"
     ]
    },
    {
     "name": "stdout",
     "output_type": "stream",
     "text": [
      "Bot: Goodbye! Moving to next cell...\n"
     ]
    }
   ],
   "source": [
    "while True:\n",
    "    user_input = input(\"You: \")\n",
    "    if user_input.lower() in (\"exit\", \"quit\", \"next\"):\n",
    "        print(\"Bot: Goodbye! Moving to next cell...\")\n",
    "        break\n",
    "    print(\"Bot:\", answer_query(user_input))\n"
   ]
  },
  {
   "cell_type": "code",
   "execution_count": 6,
   "id": "9b8fe5c7-ef35-4ab3-b5f9-23169a2098e4",
   "metadata": {},
   "outputs": [
    {
     "name": "stdout",
     "output_type": "stream",
     "text": [
      "README.md created.\n"
     ]
    }
   ],
   "source": [
    "readme_content = f\"\"\"\n",
    "# Financial Chatbot Prototype\n",
    "\n",
    "## Description\n",
    "A minimal chatbot that answers predefined financial queries for Apple, Microsoft, and Tesla using data from `financial_data.csv`.\n",
    "\n",
    "## Supported Queries\n",
    "- What is the total revenue for <company>?\n",
    "- How has net income changed over the last year for <company>?\n",
    "- Which company had the highest recent revenue growth?\n",
    "- What is the cash flow from operating activities for <company>?\n",
    "\n",
    "## How to Run in Jupyter Notebook\n",
    "1. Place `financial_data.csv` in the same folder as this notebook.\n",
    "2. Open the notebook in Jupyter.\n",
    "3. Run all cells.\n",
    "4. Use the CLI cell to type questions, or run the optional Flask app cell for a browser interface.\n",
    "\n",
    "## Data Source\n",
    "Data comes from `financial_data.csv` with the following columns:\n",
    "- Company\n",
    "- Fiscal Year\n",
    "- Total Revenue (USD B)\n",
    "- Net Income (USD B)\n",
    "- Total Assets (USD B)\n",
    "- Total Liabilities (USD B)\n",
    "- Cash Flow from Operating Activities (USD B)\n",
    "\n",
    "## Limitations\n",
    "- Only answers 4 types of predefined queries.\n",
    "- Company names must be present in the dataset.\n",
    "- No live data fetching — answers are static from the CSV.\n",
    "\"\"\"\n",
    "\n",
    "with open(\"README.md\", \"w\") as f:\n",
    "    f.write(readme_content)\n",
    "\n",
    "print(\"README.md created.\")\n"
   ]
  },
  {
   "cell_type": "code",
   "execution_count": null,
   "id": "0aea2739-c5b9-4ce5-a650-1cccaab954ef",
   "metadata": {},
   "outputs": [],
   "source": []
  }
 ],
 "metadata": {
  "kernelspec": {
   "display_name": "Python 3 (ipykernel)",
   "language": "python",
   "name": "python3"
  },
  "language_info": {
   "codemirror_mode": {
    "name": "ipython",
    "version": 3
   },
   "file_extension": ".py",
   "mimetype": "text/x-python",
   "name": "python",
   "nbconvert_exporter": "python",
   "pygments_lexer": "ipython3",
   "version": "3.13.2"
  }
 },
 "nbformat": 4,
 "nbformat_minor": 5
}
